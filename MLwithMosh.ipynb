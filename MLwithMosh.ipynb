{
 "cells": [
  {
   "cell_type": "markdown",
   "source": [
    "# Step01: Import data\r\n",
    "# Step02: Clean Data\r\n",
    "# Step03: Split Data into Training/ Test \r\n",
    "# Step04: Create the model\r\n",
    "# Step05: Train the model\r\n",
    "# Step06: Make prediction\r\n",
    "# Step07: Evaluate and improve prediction"
   ],
   "metadata": {}
  },
  {
   "cell_type": "code",
   "execution_count": 110,
   "source": [
    "import pandas as pd\r\n",
    "from sklearn.tree import DecisionTreeClassifier\r\n",
    "from sklearn.model_selection import train_test_split\r\n",
    "from sklearn.metrics import accuracy_score\r\n",
    "import  joblib\r\n",
    "from sklearn import tree"
   ],
   "outputs": [],
   "metadata": {}
  },
  {
   "cell_type": "code",
   "execution_count": 29,
   "source": [
    "df = pd.read_csv(\"data\\music.csv\")\r\n",
    "# df\r\n",
    "# df.shape\r\n",
    "# df.describe()\r\n",
    "# df.values\r\n",
    "# # df.describe()"
   ],
   "outputs": [],
   "metadata": {}
  },
  {
   "cell_type": "code",
   "execution_count": 91,
   "source": [
    "data = df.drop(columns=['genre'])\r\n",
    "targets = df['genre']\r\n",
    "data_train, data_test, target_train, target_test = train_test_split(data,targets,test_size=0.2)\r\n"
   ],
   "outputs": [],
   "metadata": {}
  },
  {
   "cell_type": "code",
   "execution_count": 122,
   "source": [
    "model = DecisionTreeClassifier()\r\n",
    "model.fit(data_train, target_train)\r\n",
    "#Save the trained model into file\r\n",
    "# joblib.dump(model, \"data\\music-recommender.joblib\")\r\n",
    "\r\n",
    "#Load an existed model \r\n",
    "#model = joblib.load(\"data\\music-recommender.joblib\")\r\n",
    "\r\n",
    "#Create an decision tree graph file\r\n",
    "# tree.export_graphviz(model, out_file='data\\music-recommender.dot',\r\n",
    "#                             feature_names=data.columns,\r\n",
    "#                             class_names=sorted(targets.unique())\r\n",
    "#                             ,label=\"all\"\r\n",
    "#                             ,rounded=True\r\n",
    "#                             ,filled=True)\r\n",
    "\r\n",
    "pred = model.predict(data_test)\r\n",
    "print (pred)\r\n",
    "print (target_test)\r\n",
    "score = accuracy_score(target_test,pred)\r\n",
    "score"
   ],
   "outputs": [
    {
     "output_type": "stream",
     "name": "stdout",
     "text": [
      "['Acoustic' 'Classical' 'HipHop' 'HipHop']\n",
      "13     Acoustic\n",
      "17    Classical\n",
      "2        HipHop\n",
      "0        HipHop\n",
      "Name: genre, dtype: object\n"
     ]
    },
    {
     "output_type": "execute_result",
     "data": {
      "text/plain": [
       "1.0"
      ]
     },
     "metadata": {},
     "execution_count": 122
    }
   ],
   "metadata": {}
  }
 ],
 "metadata": {
  "orig_nbformat": 4,
  "language_info": {
   "name": "python",
   "version": "3.9.6",
   "mimetype": "text/x-python",
   "codemirror_mode": {
    "name": "ipython",
    "version": 3
   },
   "pygments_lexer": "ipython3",
   "nbconvert_exporter": "python",
   "file_extension": ".py"
  },
  "kernelspec": {
   "name": "python3",
   "display_name": "Python 3.9.6 64-bit"
  },
  "interpreter": {
   "hash": "864cefb13d729383c3394a7484fb8b347152a456078d40ac4c14856748a83f41"
  }
 },
 "nbformat": 4,
 "nbformat_minor": 2
}